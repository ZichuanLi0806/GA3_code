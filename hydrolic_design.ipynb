{
 "cells": [
  {
   "cell_type": "code",
   "execution_count": null,
   "metadata": {},
   "outputs": [],
   "source": []
  },
  {
   "cell_type": "code",
   "execution_count": null,
   "metadata": {},
   "outputs": [],
   "source": [
    "###Imports###\n",
    "import numpy as np\n",
    "\n",
    "###Variables for hydraulic design###\n",
    "\n",
    "N = 13 #Number of tubes\n",
    "Y = 14e-3 #Tube pitch\n",
    "Dsh = 64e-3 #\n",
    "do = 8e-3 #Tube outer diameter\n",
    "di = 6e-3 #Tube inner diameter\n",
    "rho = 990.1 #kg/m3 (water density at 40C)\n",
    "m_dot_h = 0.45 #kg/s (total mass flow of hot stream (not per tube))\n",
    "\n",
    "\n",
    "\n",
    "###Definitions of correlations###\n",
    "A_sh = D_sh*(Y-do)*B/Y #This correlation is only approx (see notes eqn 6)\n",
    "\n",
    "\n",
    "###Functions for calculations###\n",
    "def Dp_in-out(v_tube,kc,ke):\n",
    "    #Returns entrance and exit pressure losses\n",
    "    return 0.5*rho*v_tube**2*(kc+ke)\n",
    "    \n",
    "def v_tube(m_dot_h, N):\n",
    "    #Returns the tube veloctiy for the given input parameters\n",
    "    return (m_dot_h/N) /(np.pi*rho*0.25*di**2)\n",
    "\n",
    "print(v_tube(m_dot_h,N))"
   ]
  }
 ],
 "metadata": {
  "language_info": {
   "name": "python"
  },
  "orig_nbformat": 4
 },
 "nbformat": 4,
 "nbformat_minor": 2
}
