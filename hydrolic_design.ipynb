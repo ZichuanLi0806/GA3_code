{
 "cells": [
  {
   "cell_type": "code",
   "execution_count": null,
   "metadata": {},
   "outputs": [],
   "source": []
  },
  {
   "cell_type": "code",
   "execution_count": 1,
   "metadata": {},
   "outputs": [
    {
     "ename": "SyntaxError",
     "evalue": "invalid syntax (Temp/ipykernel_15384/2976571292.py, line 21)",
     "output_type": "error",
     "traceback": [
      "\u001b[1;36m  File \u001b[1;32m\"C:\\Users\\LIZICH~1\\AppData\\Local\\Temp/ipykernel_15384/2976571292.py\"\u001b[1;36m, line \u001b[1;32m21\u001b[0m\n\u001b[1;33m    def Dp_in-out(v_tube,kc,ke):\u001b[0m\n\u001b[1;37m             ^\u001b[0m\n\u001b[1;31mSyntaxError\u001b[0m\u001b[1;31m:\u001b[0m invalid syntax\n"
     ]
    }
   ],
   "source": [
    "###Imports###\n",
    "import numpy as np\n",
    "\n",
    "###Variables for hydraulic design###\n",
    "\n",
    "N = 13 #Number of tubes\n",
    "Y = 14e-3 #Tube pitch\n",
    "Dsh = 64e-3 #\n",
    "do = 8e-3 #Tube outer diameter\n",
    "di = 6e-3 #Tube inner diameter\n",
    "rho = 990.1 #kg/m3 (water density at 40C)\n",
    "m_dot_h = 0.45 #kg/s (total mass flow of hot stream (not per tube))\n",
    "\n",
    "\n",
    "\n",
    "###Definitions of correlations###\n",
    "A_sh = D_sh*(Y-do)*B/Y #This correlation is only approx (see notes eqn 6)\n",
    "\n",
    "\n",
    "###Functions for calculations###\n",
    "def Dp_in-out(v_tube,kc,ke):\n",
    "    #Returns entrance and exit pressure losses\n",
    "    return 0.5*rho*v_tube**2*(kc+ke)\n",
    "    \n",
    "def v_tube(m_dot_h, N):\n",
    "    #Returns the tube veloctiy for the given input parameters\n",
    "    return (m_dot_h/N) /(np.pi*rho*0.25*di**2)\n",
    "\n",
    "print(v_tube(m_dot_h,N))"
   ]
  }
 ],
 "metadata": {
  "interpreter": {
   "hash": "924297f1e7a5b99a71b268622ac0e25cc068df819d85f359a9a8b8dc73387754"
  },
  "kernelspec": {
   "display_name": "Python 3.10.1 64-bit",
   "language": "python",
   "name": "python3"
  },
  "language_info": {
   "codemirror_mode": {
    "name": "ipython",
    "version": 3
   },
   "file_extension": ".py",
   "mimetype": "text/x-python",
   "name": "python",
   "nbconvert_exporter": "python",
   "pygments_lexer": "ipython3",
   "version": "3.10.1"
  },
  "orig_nbformat": 4
 },
 "nbformat": 4,
 "nbformat_minor": 2
}
