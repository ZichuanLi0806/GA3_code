{
 "cells": [
  {
   "cell_type": "code",
   "execution_count": 7,
   "metadata": {},
   "outputs": [],
   "source": [
    "import numpy as np"
   ]
  },
  {
   "cell_type": "code",
   "execution_count": 8,
   "metadata": {},
   "outputs": [],
   "source": [
    "# mass flow rate of cold side\n",
    "m_c = 0.61542\n",
    "\n",
    "# mass flow rate of hot side\n",
    "m_h = 0.51478\n",
    "\n",
    "# number of tubes\n",
    "N = 13\n",
    "\n",
    "# tube pitch\n",
    "Y = 14e-3\n",
    "\n",
    "# number of baffles\n",
    "N_b = 9\n",
    "\n",
    "# triangular(3) or square(4) pitch\n",
    "pitch_type = 4"
   ]
  },
  {
   "cell_type": "code",
   "execution_count": 9,
   "metadata": {},
   "outputs": [],
   "source": [
    "# geometries of the tube\n",
    "d_i = 6e-3\n",
    "d_o = 8e-3\n",
    "# geometries of the shell\n",
    "L = 0.35\n",
    "D_sh = 64e-3\n",
    "\n",
    "# properties of water at 40 degrees\n",
    "mu = 0.651e-3\n",
    "k = 0.632\n",
    "rho = 1/0.001008\n",
    "cp = 4179\n",
    "Pr = mu*cp/k\n",
    "\n",
    "# thermal conductivity of tube\n",
    "k_tube = 386"
   ]
  },
  {
   "cell_type": "code",
   "execution_count": 10,
   "metadata": {},
   "outputs": [],
   "source": [
    "# mass flow rate in one tube\n",
    "m_tube = m_h/N\n",
    "\n",
    "# tube flow velocity\n",
    "v_tube = m_tube/(rho*np.pi/4*d_i**2)\n",
    "\n",
    "# Reynolds number in tube\n",
    "Re_t = v_tube*rho*d_i/mu\n",
    "\n",
    "# inner Nusselt number\n",
    "Nu_i = 0.023*Re_t**0.8*Pr**0.3\n",
    "\n",
    "# inner heat transfer coefficient\n",
    "h_i = Nu_i*k/d_i"
   ]
  },
  {
   "cell_type": "code",
   "execution_count": 11,
   "metadata": {},
   "outputs": [],
   "source": [
    "# baffle spacing\n",
    "B = L/(N_b+1)\n",
    "\n",
    "# area of shell\n",
    "A_sh = D_sh*(Y-d_o)*B/Y\n",
    "\n",
    "# flow velocity in shell\n",
    "v_sh = m_c/(rho*A_sh)\n",
    "\n",
    "# Reynolds number in shell\n",
    "Re_sh = v_sh*d_o*rho/mu\n",
    "\n",
    "# outer Nusselt number\n",
    "if pitch_type == 3:\n",
    "    Nu_o = 0.2*Re_sh**0.6*Pr**0.3\n",
    "elif pitch_type == 4:\n",
    "    Nu_o = 0.15*Re_sh**0.6*Pr**0.3\n",
    "\n",
    "# outer heat transfer coefficient\n",
    "h_o = Nu_o*k/d_o"
   ]
  },
  {
   "cell_type": "code",
   "execution_count": 12,
   "metadata": {},
   "outputs": [],
   "source": [
    "# overall heat transfer coefficient\n",
    "U = 1/ ( 1/h_i + d_i/(d_o*h_o) + d_i*np.log(d_o/d_i)/(2*k_tube) )\n",
    "\n",
    "# total area of tube\n",
    "A_i = np.pi*d_i*L*N\n",
    "\n",
    "# start iteration\n",
    "# log mean temperature diferrence (initial value)\n",
    "T_lm = 0\n",
    "T_lm_new = 40\n",
    "\n",
    "while abs(T_lm - T_lm_new)>0.001:\n",
    "    T_lm = (T_lm_new+T_lm)/2\n",
    "    T_c_out = 20+ T_lm*A_i*U/m_c/cp\n",
    "    T_h_out = 60- T_lm*A_i*U/m_h/cp\n",
    "    delta_T1 = 60- T_c_out\n",
    "    delta_T2 = T_h_out - 20\n",
    "    T_lm_new = (delta_T1-delta_T2)/np.log(delta_T1/delta_T2)\n",
    "\n",
    "# overall heat transfer\n",
    "Q = m_c*cp*(T_c_out-20)\n",
    "\n",
    "# effectiveness\n",
    "if m_c<m_h:\n",
    "    eff = (T_c_out-20)/40\n",
    "else:\n",
    "    eff = (60-T_h_out)/40"
   ]
  }
 ],
 "metadata": {
  "interpreter": {
   "hash": "924297f1e7a5b99a71b268622ac0e25cc068df819d85f359a9a8b8dc73387754"
  },
  "kernelspec": {
   "display_name": "Python 3.10.1 64-bit",
   "language": "python",
   "name": "python3"
  },
  "language_info": {
   "codemirror_mode": {
    "name": "ipython",
    "version": 3
   },
   "file_extension": ".py",
   "mimetype": "text/x-python",
   "name": "python",
   "nbconvert_exporter": "python",
   "pygments_lexer": "ipython3",
   "version": "3.10.1"
  },
  "orig_nbformat": 4
 },
 "nbformat": 4,
 "nbformat_minor": 2
}
