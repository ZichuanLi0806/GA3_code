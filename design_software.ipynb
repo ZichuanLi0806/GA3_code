{
 "cells": [
  {
   "cell_type": "code",
   "execution_count": 43,
   "metadata": {},
   "outputs": [],
   "source": [
    "import numpy as np\n",
    "import matplotlib.pyplot as plt\n",
    "from intersect import intersection\n",
    "\n",
    "###Figure 6 Dataset###\n",
    "dataset_Qc = 1e-3*np.array([0.5833,0.5083,0.4750,0.4250,0.3792,0.3417,0.2958,0.2583,0.2125,0.1708]) #m3/s\n",
    "dataset_Dpc = 1e5*np.array([0.1113,0.2157,0.2538,0.3168,0.3613,0.4031,0.4511,0.4846,0.5181,0.5573]) #in Pa not bar\n",
    "dataset_Qh = 1e-3*np.array([0.4583,0.4236,0.4010,0.3611,0.3125,0.2639,0.2222,0.1597,0.1181,0.0694]) #m3/s\n",
    "dataset_Dph = 1e5*np.array([0.1333,0.1756,0.2024,0.2577,0.3171,0.3633,0.4233,0.4784,0.5330,0.5715]) #in Pa not bar"
   ]
  },
  {
   "cell_type": "markdown",
   "metadata": {},
   "source": [
    "# Design Parameters"
   ]
  },
  {
   "cell_type": "code",
   "execution_count": 44,
   "metadata": {},
   "outputs": [],
   "source": [
    "N = 13 #Number of tubes total (not per pass)\n",
    "N_pass_h = 1 #Number of passes of hot flow (tube pass)\n",
    "N_pass_c = 1 #Number of passes of cold flow (shell pass)\n",
    "L = 0.35 #Length of a single tube\n",
    "Y = 12e-3 #Tube pitch\n",
    "N_baffle = 14 #Number of baffles\n",
    "pitch_type = 3 # triangular(3) or square(4) pitch\n",
    "L_plenum = 50e-3 #Plenum length"
   ]
  },
  {
   "cell_type": "markdown",
   "metadata": {},
   "source": [
    "# Hydraulic Design"
   ]
  },
  {
   "cell_type": "code",
   "execution_count": 45,
   "metadata": {},
   "outputs": [],
   "source": [
    "T_c_in = 19.7\n",
    "T_h_in = 53.4\n",
    "D_sh = 64e-3 #Acrylic shell diameter\n",
    "do = 8e-3 #Tube outer diameter\n",
    "di = 6e-3 #Tube inner diameter\n",
    "d_noz = 19e-3 #THIS NEEDS CHANGING AFTER CONSULTATION ABOUT 20MM USED INSTEAD OF 24.5????????\n",
    "\n",
    "#Use 0.2 for triangular pitch. Use 0.34 for square pitch. Constant used for shell pressure drop, see handout top of page 4\n",
    "if pitch_type == 4:\n",
    "    a = 0.34 \n",
    "elif pitch_type == 3:\n",
    "    a = 0.2\n",
    "\n",
    "# properties of water at 40 degrees\n",
    "mu = 0.651e-3\n",
    "k = 0.632\n",
    "rho = 1/0.001008\n",
    "cp = 4179\n",
    "Pr = mu*cp/k\n",
    "# thermal conductivity of tube\n",
    "k_tube = 386\n",
    "\n",
    "\n",
    "###Definitions of correlations###\n",
    "B = L/(N_baffle+1) #Baffle spacing PER SIDE (multipass shell)\n",
    "A_sh = D_sh*(Y-do)*B/(Y/N_pass_c) #This correlation is only approx (see notes eqn 6)  \n",
    "sigma = N*0.25*np.pi*di**2/(0.25*np.pi*D_sh**2) #Free area to total area. Is this equation right for multipass? i.e sigma does not vary with multipass vs signle pass?\n",
    "sigma_plenum = (np.pi*0.25*d_noz**2)/(0.5*(d_noz+D_sh)*L_plenum) #Area ratio for nozzle into plenum. Assume plenum is a rectangle area L by (d_noz+D_sh)*0.5    \n",
    "\n",
    "\n",
    "###Functions for calculations###\n",
    "def Dp_in_out(v_tube,kc,ke):\n",
    "    #Returns entrance and exit pressure losses given kc and ke. These are found from edge_coefficients. Is this equation right for multipass?\n",
    "    return 0.5*rho*v_tube**2*(kc+ke)*N_pass_h\n",
    "def v_tube(m_dot, N):\n",
    "    #Returns the tube veloctiy for the given input parameters taking into account multi-pass\n",
    "    if (m_dot*N_pass_h/N)/(np.pi*rho*0.25*di**2) < 0.393:\n",
    "        print(\"Caution, equation (4) in datasheet not valid as tube Reynolds too low\")\n",
    "    else:\n",
    "        return (m_dot*N_pass_h/N)/(np.pi*rho*0.25*di**2)\n",
    "def Dp_tubes(f,v_tube):\n",
    "    #Returns pressure loss due to friction in tubes for all passes (if multi-pass)\n",
    "    return (f*L*N_pass_h*rho*v_tube**2)/(di*2)\n",
    "def friction_factor(v_tube):\n",
    "    #From worked example top of page 2. we can find friction factor. Returns friction factor, f\n",
    "    return (1.82*np.log10(rho*v_tube*di/mu)-1.64)**(-2)\n",
    "def v_noz(m_dot,dia):\n",
    "    #Returns the flow speed for a given mass flow rate and diameter. Use v_tube for hot side velocity to account for N tubes\n",
    "    return m_dot/(rho*0.25*np.pi*dia**2)\n",
    "def Dp_shell(V_sh,N):\n",
    "    #Returns the pressure loss from the dubious empirical relation given on handout page 3 at bottom\n",
    "    return 4*a*(V_sh*do*rho/mu)**-0.15*(N/N_pass_c)*rho*V_sh**2\n",
    "def edge_coefficients(sigma):\n",
    "    #Given a value of sigma, returns kc,ke from Fig 7 (assuming Re=10,000)\n",
    "    kc = 0.4*(1-sigma) + 0.09 #From Fig 7. using Reynold's as approx 10,000\n",
    "    ke = sigma**2 - 2.1 * sigma + 1 #From curve fit of Fig 7, again using Re=10,000\n",
    "    return kc,ke\n",
    "def plenum_loss(v_noz,kc,ke):\n",
    "    #Large loss due to mixing in plenum from nozzle entry and viscous mixing. Returns pressure loss. Scaled using Longley 2022 data\n",
    "    return 2*rho*v_noz**2*(kc+ke)\n",
    "def m_dot_H(Dp_h_overall):\n",
    "    #Returns hot mass flow rate for a given pressure drop along hot side. This uses Fig 6 data from handout\n",
    "    a,b,c,d = np.polyfit(dataset_Dph, dataset_Qh, 3)\n",
    "    return rho*(a*Dp_h_overall**3+b*Dp_h_overall**2+c*Dp_h_overall+d)\n",
    "def m_dot_C(Dp_c_overall):\n",
    "    #Returns cold mass flow rate for a given pressure drop along cold side. This uses Fig 6 data from handout\n",
    "    a,b,c,d = np.polyfit(dataset_Dpc, dataset_Qc, 3)\n",
    "    return rho*(a*Dp_c_overall**3+b*Dp_c_overall**2+c*Dp_c_overall+d)\n",
    "\n",
    "\n",
    "\n",
    "###Iteration to find correct mass flow rates###\n",
    "m_dot_h_actual = []#Returns flow rate due to guessed flow rate.\n",
    "m_dot_h_guess = [] #Guess actual flow rate\n",
    "m_dot_c_actual = []\n",
    "m_dot_c_guess = []\n",
    "\n",
    "for m_dot in np.linspace(0.15,0.7,100):\n",
    "    v_t = v_tube(m_dot,N)\n",
    "    f = friction_factor(v_t)\n",
    "    v_noz_h = v_noz(m_dot,d_noz)\n",
    "    kc1,ke1 = edge_coefficients(sigma)[0],edge_coefficients(sigma)[1] #For tube loss\n",
    "    kc2,ke2 = edge_coefficients(sigma_plenum)[0],edge_coefficients(sigma_plenum)[1] #For plenum loss\n",
    "    Dp_h_overall = Dp_tubes(f,v_t) + Dp_in_out(v_t, kc1, ke1) + plenum_loss(v_noz_h,kc2,ke2) + rho*v_noz_h**2 #Last term accounts for BOTH nozzles\n",
    "    m_dot_h_guess.append(m_dot)\n",
    "    m_dot_h_actual.append(m_dot_H(Dp_h_overall))\n",
    "\n",
    "m_dot_h = intersection(m_dot_h_guess,m_dot_h_actual,m_dot_h_guess,m_dot_h_guess)[0][0] #Finds intersection of data i.e actual value of m_dot\n",
    "\n",
    "\n",
    "for m_dot in np.linspace(0.15,0.7,100):\n",
    "    v_noz_c = v_noz(m_dot,d_noz)\n",
    "    V_sh = m_dot/(rho*A_sh) #Measure of shell velocity\n",
    "    Dp_c_overall = Dp_shell(V_sh,N) + 2.3*N_baffle*N_pass_c*rho*V_sh**2 + rho*v_noz_c**2 #Last term accounts for BOTH nozzles. 2nd term is calibrated by Longley 2022 and 2017B data on Moodle\n",
    "    m_dot_c_guess.append(m_dot)\n",
    "    m_dot_c_actual.append(m_dot_C(Dp_c_overall))\n",
    "\n",
    "'''\n",
    "plt.plot(m_dot_c_guess,m_dot_c_actual)\n",
    "plt.plot(m_dot_c_guess,m_dot_c_guess)\n",
    "plt.xlabel('Guess')\n",
    "plt.ylabel('Actual')\n",
    "plt.show()\n",
    "'''\n",
    "\n",
    "m_dot_c = intersection(m_dot_c_guess,m_dot_c_actual,m_dot_c_guess,m_dot_c_guess)[0][0] #Finds intersection of data i.e actual value of m_dot\n"
   ]
  },
  {
   "cell_type": "markdown",
   "metadata": {},
   "source": [
    "# Thermal Design - LMTD Method"
   ]
  },
  {
   "cell_type": "code",
   "execution_count": 46,
   "metadata": {},
   "outputs": [],
   "source": [
    "# Reynolds number in tube\n",
    "Re_t = v_tube(m_dot_h,N)*rho*di/mu\n",
    "\n",
    "# inner Nusselt number\n",
    "Nu_i = 0.023*Re_t**0.8*Pr**0.3\n",
    "\n",
    "# inner heat transfer coefficient\n",
    "h_i = Nu_i*k/di\n",
    "\n",
    "# flow velocity in shell\n",
    "v_sh = m_dot_c/(rho*A_sh)\n",
    "\n",
    "# Reynolds number in shell\n",
    "Re_sh = v_sh*do*rho/mu\n",
    "\n",
    "# outer Nusselt number\n",
    "if pitch_type == 3:\n",
    "    Nu_o = 0.2*Re_sh**0.6*Pr**0.3\n",
    "elif pitch_type == 4:\n",
    "    Nu_o = 0.15*Re_sh**0.6*Pr**0.3\n",
    "\n",
    "# outer heat transfer coefficient\n",
    "h_o = Nu_o*k/do\n",
    "\n",
    "# overall heat transfer coefficient\n",
    "U = 1/ ( 1/h_i + di/(do*h_o) + di*np.log(do/di)/(2*k_tube) )\n",
    "\n",
    "# total area of tube\n",
    "A_i = np.pi*di*L*N\n",
    "\n",
    "\n",
    "# start iteration\n",
    "# log mean temperature diferrence (initial value)\n",
    "T_lm = 0\n",
    "T_lm_new = 50\n",
    "\n",
    "while abs(T_lm - T_lm_new)>0.000000001:\n",
    "    T_lm = (T_lm_new+T_lm)/2\n",
    "    T_c_out = T_c_in+ T_lm*A_i*U/m_dot_c/cp\n",
    "    T_h_out =T_h_in- T_lm*A_i*U/m_dot_h/cp\n",
    "    delta_T1 = T_h_in- T_c_out\n",
    "    delta_T2 = T_h_out -T_c_in\n",
    "    T_lm_new = (delta_T1-delta_T2)/np.log(delta_T1/delta_T2)\n",
    "\n",
    "\n",
    "# overall heat transfer\n",
    "Q = m_dot_c*cp*(T_c_out-T_c_in)\n",
    "Q = m_dot_h*cp*(T_h_in - T_h_out)\n",
    "\n",
    "# effectiveness\n",
    "if m_dot_c<m_dot_h:\n",
    "    eff = (T_c_out-T_c_in)/(T_h_in - T_c_in)\n",
    "else:\n",
    "    eff = (T_h_in-T_h_out)/(T_h_in - T_c_in)\n"
   ]
  },
  {
   "cell_type": "markdown",
   "metadata": {},
   "source": [
    "# Thermal Design - NTU Method"
   ]
  },
  {
   "cell_type": "code",
   "execution_count": 47,
   "metadata": {},
   "outputs": [],
   "source": [
    "NTU = U*A_i/cp/min(m_dot_h,m_dot_c)\n",
    "R_c = min(m_dot_h,m_dot_c)/max(m_dot_h,m_dot_c)\n",
    "eff_NTU = (1-np.exp(-NTU*(1-R_c)))/(1-R_c*np.exp(-NTU*(1-R_c)))\n"
   ]
  },
  {
   "cell_type": "markdown",
   "metadata": {},
   "source": [
    "# Result"
   ]
  },
  {
   "cell_type": "code",
   "execution_count": 48,
   "metadata": {},
   "outputs": [
    {
     "name": "stdout",
     "output_type": "stream",
     "text": [
      "This configuration has hot mass flow: 0.4678 kg/s\n",
      "The hot flow out of the heat exchanger has temperature 48.66 degrees\n",
      "\n",
      "This configuration has cold mass flow: 0.4381 kg/s\n",
      "The cold flow out of the heat exchanger has temperature 24.762 degrees\n",
      "\n",
      "Overall heat transfer rate is 9266.52 W\n",
      "By LMTD method, effectiveness is 0.15020514420390324\n",
      "By NTU  method, effectiveness is 0.15020514420621162\n"
     ]
    }
   ],
   "source": [
    "print(\"This configuration has hot mass flow:\", round(m_dot_h,4),\"kg/s\")\n",
    "print('The hot flow out of the heat exchanger has temperature', round(T_h_out,3),'degrees')\n",
    "print()\n",
    "print(\"This configuration has cold mass flow:\", round(m_dot_c,4),\"kg/s\")\n",
    "print('The cold flow out of the heat exchanger has temperature', round(T_c_out,3),'degrees')\n",
    "print()\n",
    "print('Overall heat transfer rate is',round(Q,2),'W')\n",
    "print('By LMTD method, effectiveness is',eff)\n",
    "print('By NTU  method, effectiveness is',eff_NTU)"
   ]
  }
 ],
 "metadata": {
  "interpreter": {
   "hash": "924297f1e7a5b99a71b268622ac0e25cc068df819d85f359a9a8b8dc73387754"
  },
  "kernelspec": {
   "display_name": "Python 3.10.1 64-bit",
   "language": "python",
   "name": "python3"
  },
  "language_info": {
   "codemirror_mode": {
    "name": "ipython",
    "version": 3
   },
   "file_extension": ".py",
   "mimetype": "text/x-python",
   "name": "python",
   "nbconvert_exporter": "python",
   "pygments_lexer": "ipython3",
   "version": "3.10.1"
  },
  "orig_nbformat": 4
 },
 "nbformat": 4,
 "nbformat_minor": 2
}
